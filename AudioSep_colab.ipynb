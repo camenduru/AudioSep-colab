{
  "cells": [
    {
      "cell_type": "markdown",
      "metadata": {
        "id": "view-in-github"
      },
      "source": [
        "[![Open In Colab](https://colab.research.google.com/assets/colab-badge.svg)](https://colab.research.google.com/github/camenduru/AudioSep-colab/blob/main/AudioSep_colab.ipynb)"
      ]
    },
    {
      "cell_type": "code",
      "execution_count": null,
      "metadata": {
        "id": "VjYy0F2gZIPR"
      },
      "outputs": [],
      "source": [
        "%cd /content\n",
        "!git clone -b dev https://github.com/camenduru/AudioSep-hf\n",
        "%cd /content/AudioSep-hf\n",
        "\n",
        "!pip install -q gradio lightning torchlibrosa transformers ftfy braceexpand webdataset wget\n",
        "\n",
        "!apt -y install -qq aria2\n",
        "!aria2c --console-log-level=error -c -x 16 -s 16 -k 1M https://huggingface.co/audo/AudioSep/resolve/main/audiosep_base_4M_steps.ckpt -d /content/AudioSep-hf/checkpoint -o audiosep_base_4M_steps.ckpt\n",
        "!aria2c --console-log-level=error -c -x 16 -s 16 -k 1M https://huggingface.co/audo/AudioSep/resolve/main/music_speech_audioset_epoch_15_esc_89.98.pt -d /content/AudioSep-hf/checkpoint -o music_speech_audioset_epoch_15_esc_89.98.pt\n",
        "!aria2c --console-log-level=error -c -x 16 -s 16 -k 1M https://huggingface.co/audo/AudioSep/resolve/main/bpe_simple_vocab_16e6.txt.gz -d /content/AudioSep-hf/models/CLAP/open_clip -o bpe_simple_vocab_16e6.txt.gz\n",
        "!aria2c --console-log-level=error -c -x 16 -s 16 -k 1M https://huggingface.co/audo/AudioSep/resolve/main/audioset_textmap.npy -d /content/AudioSep-hf/models/CLAP/training -o audioset_textmap.npy\n",
        "\n",
        "!python app.py"
      ]
    }
  ],
  "metadata": {
    "accelerator": "GPU",
    "colab": {
      "gpuType": "T4",
      "provenance": []
    },
    "kernelspec": {
      "display_name": "Python 3",
      "name": "python3"
    },
    "language_info": {
      "name": "python"
    }
  },
  "nbformat": 4,
  "nbformat_minor": 0
}
